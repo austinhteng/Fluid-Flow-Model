{
 "cells": [
  {
   "cell_type": "markdown",
   "metadata": {},
   "source": [
    "# Using U-Net Architecture for Fluid Simulation"
   ]
  },
  {
   "cell_type": "markdown",
   "metadata": {},
   "source": [
    "## Installing Dependencies"
   ]
  },
  {
   "cell_type": "code",
   "execution_count": null,
   "metadata": {},
   "outputs": [],
   "source": [
    "%pip install torch --quiet\n",
    "%pip install torchvision --quiet\n",
    "%pip install phiflow --quiet"
   ]
  },
  {
   "cell_type": "markdown",
   "metadata": {},
   "source": []
  },
  {
   "cell_type": "code",
   "execution_count": 1,
   "metadata": {},
   "outputs": [],
   "source": [
    "import torch\n",
    "import torch.nn as nn"
   ]
  },
  {
   "cell_type": "code",
   "execution_count": 2,
   "metadata": {},
   "outputs": [],
   "source": [
    "class ConvBlock(nn.Module):\n",
    "    def __init__(self, in_c, out_c):\n",
    "        super().__init__()\n",
    "        \n",
    "        avg_c = (in_c + out_c) // 2\n",
    "        \n",
    "        self.conv1 = nn.Conv2d(in_c, avg_c, 3, padding='same')\n",
    "        self.bn1 = nn.BatchNorm2d(avg_c)\n",
    "        \n",
    "        self.conv2 = nn.Conv2d(avg_c, out_c, 3, padding='same')\n",
    "        self.bn2 = nn.BatchNorm2d(out_c)\n",
    "        \n",
    "        self.relu = nn.LeakyReLU()\n",
    "        \n",
    "    def forward(self, x):\n",
    "        x = self.conv1(x)\n",
    "        x = self.bn1(x)\n",
    "        x = self.relu(x)\n",
    "        \n",
    "        x = self.conv2(x)\n",
    "        x = self.bn2(x)\n",
    "        x = self.relu(x)\n",
    "        \n",
    "        return x"
   ]
  },
  {
   "cell_type": "code",
   "execution_count": 3,
   "metadata": {},
   "outputs": [],
   "source": [
    "class DownSamp(nn.Module):\n",
    "    def __init__(self, in_c, out_c):\n",
    "        super().__init__()\n",
    "        \n",
    "        self.conv = ConvBlock(in_c, out_c)\n",
    "        self.pool = nn.MaxPool2d(2)\n",
    "        \n",
    "        \n",
    "    def forward(self, x):\n",
    "        x = self.conv(x)\n",
    "        p = self.pool(x)\n",
    "        \n",
    "        return x, p"
   ]
  },
  {
   "cell_type": "code",
   "execution_count": 4,
   "metadata": {},
   "outputs": [],
   "source": [
    "class UpSamp(nn.Module):\n",
    "    def __init__(self, in_c, out_c):\n",
    "        super().__init__()\n",
    "        \n",
    "        self.up = nn.ConvTranspose2d(in_c, out_c, 2, 2)\n",
    "        self.conv = ConvBlock(out_c+out_c, out_c)\n",
    "        \n",
    "        \n",
    "    def forward(self, x, skip):\n",
    "        x = self.up(x)\n",
    "        x = torch.cat([x, skip], axis=1)\n",
    "        x = self.conv(x)\n",
    "        \n",
    "        return x"
   ]
  },
  {
   "cell_type": "code",
   "execution_count": 5,
   "metadata": {},
   "outputs": [],
   "source": [
    "class UNet(nn.Module):\n",
    "    def __init__(self, in_c, out_c, f_size=16):\n",
    "        super().__init__()\n",
    "        \n",
    "        # Downsampling\n",
    "        self.down1 = DownSamp(in_c, f_size)\n",
    "        self.down2 = DownSamp(f_size, f_size*2)\n",
    "        self.down3 = DownSamp(f_size*2, f_size*4)\n",
    "        self.down4 = DownSamp(f_size*4, f_size*8)\n",
    "        \n",
    "        # Bottleneck\n",
    "        self.b = ConvBlock(f_size * 8, f_size * 16)\n",
    "        \n",
    "        # Upsampling\n",
    "        self.up1 = UpSamp(f_size * 16, f_size*8)\n",
    "        self.up2 = UpSamp(f_size * 8, f_size*4)\n",
    "        self.up3 = UpSamp(f_size * 4, f_size*2)\n",
    "        self.up4 = UpSamp(f_size * 2, f_size)\n",
    "        \n",
    "        # Output\n",
    "        self.output = nn.Conv2d(f_size, out_c, 1, padding='same')\n",
    "        \n",
    "    def forward(self, x):\n",
    "        # Downsampling\n",
    "        d1, p1 = self.down1(x)\n",
    "        d2, p2 = self.down2(p1)\n",
    "        d3, p3 = self.down3(p2)\n",
    "        d4, p4 = self.down4(p3)\n",
    "        \n",
    "        # Bottleneck\n",
    "        b = self.b(p4)\n",
    "        \n",
    "        # Upsampling\n",
    "        u1 = self.up1(b, d4)\n",
    "        u2 = self.up2(u1, d3)\n",
    "        u3 = self.up3(u2, d2)\n",
    "        u4 = self.up4(u3, d1)\n",
    "        \n",
    "        # Output\n",
    "        output = self.output(u4)\n",
    "        \n",
    "        return output"
   ]
  },
  {
   "cell_type": "markdown",
   "metadata": {},
   "source": [
    "## Pretraining model"
   ]
  },
  {
   "cell_type": "code",
   "execution_count": 6,
   "metadata": {},
   "outputs": [],
   "source": [
    "def train_random_epoch(size=32, num_batches=1, batch_size=1):\n",
    "    last_loss = 0\n",
    "\n",
    "    # Here, we use enumerate(training_loader) instead of\n",
    "    # iter(training_loader) so that we can track the batch\n",
    "    # index and do some intra-epoch reporting\n",
    "    for i in range(num_batches):\n",
    "        # Every data instance is an input + label pair\n",
    "        inputs = torch.rand(batch_size, 4, size, size)\n",
    "        labels = inputs[:, 0:3, :, :]\n",
    "\n",
    "        # Zero your gradients for every batch!\n",
    "        optimizer.zero_grad()\n",
    "\n",
    "        # Make predictions for this batch\n",
    "        outputs = model(inputs)\n",
    "\n",
    "        # Compute the loss and its gradients\n",
    "        loss = loss_fn(outputs, labels)\n",
    "        loss.backward()\n",
    "\n",
    "        # Adjust learning weights\n",
    "        optimizer.step()\n",
    "\n",
    "        # Gather data and report\n",
    "        last_loss = loss.item()\n",
    "        print_batch = min(num_batches, max(1,(num_batches // 8)))\n",
    "        if i == 0 or i % print_batch == print_batch- 1:\n",
    "            print(i, \"batch loss:\", last_loss)\n",
    "        \n",
    "    return last_loss"
   ]
  },
  {
   "cell_type": "code",
   "execution_count": 7,
   "metadata": {},
   "outputs": [],
   "source": [
    "model = UNet(4, 3, 8)\n",
    "optimizer = torch.optim.Adam(model.parameters(), lr=0.001)\n",
    "loss_fn = nn.MSELoss()"
   ]
  },
  {
   "cell_type": "code",
   "execution_count": 8,
   "metadata": {},
   "outputs": [
    {
     "name": "stdout",
     "output_type": "stream",
     "text": [
      "Size 16:\n",
      "0 batch loss: 0.4516718089580536\n",
      "31 batch loss: 0.18354082107543945\n",
      "63 batch loss: 0.10997258871793747\n",
      "95 batch loss: 0.07839246839284897\n",
      "127 batch loss: 0.06243979558348656\n",
      "159 batch loss: 0.053235623985528946\n",
      "191 batch loss: 0.04866290092468262\n",
      "223 batch loss: 0.04461497440934181\n",
      "255 batch loss: 0.04194195941090584\n"
     ]
    },
    {
     "data": {
      "text/plain": [
       "0.04194195941090584"
      ]
     },
     "execution_count": 8,
     "metadata": {},
     "output_type": "execute_result"
    }
   ],
   "source": [
    "model.train()\n",
    "print('Size 16:')\n",
    "train_random_epoch(size=16, num_batches=256, batch_size=32)"
   ]
  },
  {
   "cell_type": "code",
   "execution_count": 9,
   "metadata": {},
   "outputs": [
    {
     "name": "stdout",
     "output_type": "stream",
     "text": [
      "Difference: 0.12996044754981995\n",
      "Normalized Difference: 0.1295795738697052\n"
     ]
    },
    {
     "data": {
      "image/png": "[encoded data removed]",
      "text/plain": [
       "<Figure size 720x504 with 4 Axes>"
      ]
     },
     "metadata": {
      "needs_background": "light"
     },
     "output_type": "display_data"
    }
   ],
   "source": [
    "from matplotlib import pyplot as plt\n",
    "import numpy as np\n",
    "%matplotlib inline\n",
    "\n",
    "model.eval()\n",
    "#image is a numpy array\n",
    "inputs = torch.rand(1, 4, 16, 16)\n",
    "outputs = model(inputs).detach().numpy()\n",
    "labels = inputs[:, 0:3, :, :].detach().numpy()\n",
    "# imshow(inputs[0, 0, :, :])\n",
    "diff = outputs[0, 0, :, :] - labels[0, 0, :, :]\n",
    "diff = np.sqrt(diff * diff)\n",
    "\n",
    "fig = plt.figure(figsize=(10, 7))\n",
    "rows = 1\n",
    "cols = 4\n",
    "# Adds a subplot at the 1st position\n",
    "fig.add_subplot(rows, cols, 1)\n",
    "  \n",
    "# showing image\n",
    "plt.imshow(outputs[0, 0, :, :])\n",
    "plt.axis('off')\n",
    "plt.title(\"Actual\")\n",
    "  \n",
    "# Adds a subplot at the 2nd position\n",
    "fig.add_subplot(rows, cols, 2)\n",
    "  \n",
    "# showing image\n",
    "plt.imshow(labels[0, 0, :, :])\n",
    "plt.axis('off')\n",
    "plt.title(\"Expected\")\n",
    "\n",
    "# Adds a subplot at the 3rd position\n",
    "fig.add_subplot(rows, cols, 3)\n",
    "  \n",
    "# showing image\n",
    "plt.imshow(diff)\n",
    "plt.axis('off')\n",
    "plt.title(\"Difference\")\n",
    "print(\"Difference:\", diff.sum() / diff.size)\n",
    "\n",
    "\n",
    "fig.add_subplot(rows, cols, 4)\n",
    "\n",
    "normalized = (np.sum(labels[0, 0, :, :])/np.sum(outputs[0, 0, :, :])) * outputs[0, 0, :, :]\n",
    "diff = normalized - labels[0, 0, :, :]\n",
    "diff = np.sqrt(diff * diff)\n",
    "# showing image\n",
    "plt.imshow(diff)\n",
    "plt.axis('off')\n",
    "plt.title(\"Normalized Difference\")\n",
    "print(\"Normalized Difference:\", diff.sum() / diff.size)"
   ]
  },
  {
   "cell_type": "markdown",
   "metadata": {},
   "source": [
    "## PhiFlow Things"
   ]
  },
  {
   "cell_type": "code",
   "execution_count": 10,
   "metadata": {},
   "outputs": [],
   "source": [
    "def stackGrids(den, vel, xMax, yMax, bound = None):\n",
    "    den = CenteredGrid(den, 0, Box[0:xMax, 0:yMax], x=xMax, y=yMax)\n",
    "    vel = StaggeredGrid(vel, 0, Box[0:xMax, 0:yMax], x=xMax, y=yMax)\n",
    "    \n",
    "    den_val = den.values.numpy([\"x\",\"y\"])\n",
    "    vel_x = vel.at_centers().vector['x'].values.numpy([\"x\",\"y\"])\n",
    "    vel_y = vel.at_centers().vector['y'].values.numpy([\"x\",\"y\"])\n",
    "    if (bound is None):\n",
    "        x = np.stack((den_val, vel_x, vel_y), axis=0)\n",
    "    else:\n",
    "        bound_val = bound.values.numpy(['x', 'y'])\n",
    "        x = np.stack((den_val, vel_x, vel_y, bound_val), axis=0)\n",
    "    return torch.tensor([x])"
   ]
  },
  {
   "cell_type": "code",
   "execution_count": 11,
   "metadata": {},
   "outputs": [],
   "source": [
    "def simulateFlow(den, vel, GRAVITY, DT):\n",
    "    den = advect.mac_cormack(den, vel, dt=DT)\n",
    "    gravity_force = den * GRAVITY * DT @ vel\n",
    "    vel = advect.semi_lagrangian(vel, vel, dt=DT) + gravity_force\n",
    "    vel, _ = fluid.make_incompressible(vel)\n",
    "    return den, vel"
   ]
  },
  {
   "cell_type": "code",
   "execution_count": 12,
   "metadata": {},
   "outputs": [],
   "source": [
    "from phi.flow import *\n",
    "import numpy as np\n",
    "\n",
    "#1 epoch is a full simulation\n",
    "def train_one_epoch(model, optimizer, loss_fn, input_num, num_frames, size=32):\n",
    "    scene = Scene.at(\"./data/size\" + str(size), input_num)\n",
    "    \n",
    "    bound = CenteredGrid(0, extrapolation.ONE, x=size-2, y=size-2, bounds=Box[1:size-1, 1:size-1])\n",
    "    bound = CenteredGrid(bound, x=size, y=size, bounds=Box[0:size, 0:size])\n",
    "    \n",
    "    loss_total = 0.0\n",
    "    \n",
    "    for frame in range(num_frames):\n",
    "        den_input, vel_input = scene.read(['water', 'velocity'], frame=frame)\n",
    "        X = stackGrids(den_input, vel_input, size, size, bound)\n",
    "        optimizer.zero_grad()\n",
    "        outputs = model(X)\n",
    "        \n",
    "        den_expect, vel_expect = scene.read(['water', 'velocity'], frame=frame+1)\n",
    "        Y = stackGrids(den_expect, vel_expect, size, size)\n",
    "        \n",
    "        loss = loss_fn(outputs, Y)\n",
    "        loss.backward()\n",
    "        optimizer.step()\n",
    "        \n",
    "        loss_total += loss.item()\n",
    "        \n",
    "    # Gather data and report\n",
    "    loss_average = loss_total / num_frames\n",
    "    print('Sample number:', input_num, '| size:' ,size, \"| batch loss:\", loss_average)\n",
    "        \n",
    "    return loss_average"
   ]
  },
  {
   "cell_type": "code",
   "execution_count": 13,
   "metadata": {},
   "outputs": [],
   "source": [
    "def validation(model, optimizer, loss_fn, input_num, num_frames, size=32):\n",
    "    scene = Scene.at(\"./data/size\" + str(size), input_num)\n",
    "    \n",
    "    bound = CenteredGrid(0, extrapolation.ONE, x=size-2, y=size-2, bounds=Box[1:size-1, 1:size-1])\n",
    "    bound = CenteredGrid(bound, x=size, y=size, bounds=Box[0:size, 0:size])\n",
    "    \n",
    "    loss_total = 0.0\n",
    "    \n",
    "    for frame in range(num_frames):\n",
    "        den_input, vel_input = scene.read(['water', 'velocity'], frame=frame)\n",
    "        X = stackGrids(den_input, vel_input, size, size, bound)\n",
    "        outputs = model(X)\n",
    "        \n",
    "        den_expect, vel_expect = scene.read(['water', 'velocity'], frame=frame+1)\n",
    "        Y = stackGrids(den_expect, vel_expect, size, size)\n",
    "        \n",
    "        loss = loss_fn(outputs, Y)\n",
    "        loss_total += loss.item()\n",
    "\n",
    "        \n",
    "    # Gather data and report\n",
    "    #print(size, \"validation loss total:\", loss_total)\n",
    "        \n",
    "    return loss_total / num_frames"
   ]
  },
  {
   "cell_type": "code",
   "execution_count": 14,
   "metadata": {},
   "outputs": [],
   "source": [
    "def train(model, size, samples, num_frames, validation_split, epochs):\n",
    "    epoch_hist = []\n",
    "    \n",
    "    last_loss = 100\n",
    "    patience = 2\n",
    "    triggertimes = 0\n",
    "    for e in range(epochs):\n",
    "        #train\n",
    "        for i in range(samples - validation_split):\n",
    "            train_one_epoch(model, optimizer, loss_fn, i, num_frames=num_frames, size=size)\n",
    "        \n",
    "        \n",
    "        #validation\n",
    "        loss_total = 0.0\n",
    "        for i in range(samples - validation_split, samples):\n",
    "            loss_total += validation(model, optimizer, loss_fn, i, num_frames, size=size)\n",
    "        current_loss = loss_total / (validation_split)\n",
    "        print(e, 'epoch. The Current Loss:', current_loss)\n",
    "        epoch_hist.append(current_loss)\n",
    "        \n",
    "        #early stopping\n",
    "        if current_loss > last_loss:\n",
    "            trigger_times += 1\n",
    "            print('Trigger Times:', trigger_times)\n",
    "\n",
    "            if trigger_times >= patience:\n",
    "                print('Early stopping!\\nStart to test process.')\n",
    "                return model, epoch_hist\n",
    "\n",
    "        else:\n",
    "            print('trigger times: 0')\n",
    "            trigger_times = 0\n",
    "\n",
    "        last_loss = current_loss\n",
    "    return model, epoch_hist"
   ]
  },
  {
   "cell_type": "code",
   "execution_count": 15,
   "metadata": {},
   "outputs": [],
   "source": [
    "model = UNet(4, 3, 8)\n",
    "optimizer = torch.optim.Adam(model.parameters())\n",
    "loss_fn = nn.MSELoss()"
   ]
  },
  {
   "cell_type": "code",
   "execution_count": null,
   "metadata": {},
   "outputs": [
    {
     "name": "stderr",
     "output_type": "stream",
     "text": [
      "/tmp/ipykernel_39685/1743132527.py:13: UserWarning: Creating a tensor from a list of numpy.ndarrays is extremely slow. Please consider converting the list to a single numpy.ndarray with numpy.array() before converting to a tensor. (Triggered internally at  ../torch/csrc/utils/tensor_new.cpp:201.)\n",
      "  return torch.tensor([x])\n"
     ]
    },
    {
     "name": "stdout",
     "output_type": "stream",
     "text": [
      "Sample number: 0 | size: 64 | batch loss: 3.7802652521058917\n",
      "Sample number: 1 | size: 64 | batch loss: 2.094172271899879\n",
      "Sample number: 2 | size: 64 | batch loss: 2.906569299288094\n",
      "Sample number: 3 | size: 64 | batch loss: 2.2733048386871815\n",
      "Sample number: 4 | size: 64 | batch loss: 2.3425626228563488\n",
      "Sample number: 5 | size: 64 | batch loss: 2.0220956383273005\n",
      "Sample number: 6 | size: 64 | batch loss: 1.6961440099403262\n",
      "Sample number: 7 | size: 64 | batch loss: 1.9477307703346014\n",
      "Sample number: 8 | size: 64 | batch loss: 1.9675496015697718\n",
      "Sample number: 9 | size: 64 | batch loss: 1.523775938898325\n",
      "Sample number: 10 | size: 64 | batch loss: 1.6201292425394058\n",
      "Sample number: 11 | size: 64 | batch loss: 2.033879514783621\n",
      "Sample number: 12 | size: 64 | batch loss: 1.37651246227324\n",
      "Sample number: 13 | size: 64 | batch loss: 1.2490069782361388\n",
      "Sample number: 14 | size: 64 | batch loss: 1.6732135685160756\n",
      "Sample number: 15 | size: 64 | batch loss: 1.7743419790640473\n",
      "Sample number: 16 | size: 64 | batch loss: 2.1677162908017635\n",
      "Sample number: 17 | size: 64 | batch loss: 2.082808549515903\n",
      "Sample number: 18 | size: 64 | batch loss: 1.31033623078838\n",
      "Sample number: 19 | size: 64 | batch loss: 1.7130162892863154\n",
      "Sample number: 20 | size: 64 | batch loss: 1.6990895485505462\n",
      "Sample number: 21 | size: 64 | batch loss: 1.9032163536176085\n",
      "Sample number: 22 | size: 64 | batch loss: 1.8012315388768911\n",
      "Sample number: 23 | size: 64 | batch loss: 2.1162188043817878\n"
     ]
    }
   ],
   "source": [
    "model.train()\n",
    "size = 64\n",
    "samples = 128\n",
    "num_frames = 32\n",
    "validation_split = 8\n",
    "epochs = 100\n",
    "model, epoch_list = train(model, size, samples, num_frames, validation_split, epochs)"
   ]
  },
  {
   "cell_type": "code",
   "execution_count": null,
   "metadata": {},
   "outputs": [],
   "source": [
    "torch.save(model, './models/model_long')"
   ]
  },
  {
   "cell_type": "code",
   "execution_count": null,
   "metadata": {},
   "outputs": [],
   "source": [
    "model = torch.load('models/model_long.pt')"
   ]
  },
  {
   "cell_type": "markdown",
   "metadata": {},
   "source": [
    "# Evaluate model"
   ]
  },
  {
   "cell_type": "code",
   "execution_count": null,
   "metadata": {},
   "outputs": [],
   "source": [
    "size = 64\n",
    "num_frames = 32\n",
    "\n",
    "GRAVITY = math.tensor([0, -9.81])\n",
    "DT = 1\n",
    "\n",
    "den = CenteredGrid(Noise(), extrapolation.ZERO, x=size-2, y=size-2, bounds=Box[1:size-1, 1:size-1])\n",
    "den_ref = CenteredGrid(den, extrapolation.ZERO, x=size-2, y=size-2, bounds=Box[1:size-1, 1:size-1])\n",
    "vel = StaggeredGrid(0, extrapolation.ZERO, x=size-2, y=size-2, bounds=Box[1:size-1, 1:size-1])\n",
    "vel_ref = StaggeredGrid(vel, extrapolation.ZERO, x=size-2, y=size-2, bounds=Box[1:size-1, 1:size-1])\n",
    "\n",
    "bound = CenteredGrid(0, extrapolation.ONE, x=size-2, y=size-2, bounds=Box[1:size-1, 1:size-1])\n",
    "bound = CenteredGrid(bound, x=size, y=size, bounds=Box[0:size, 0:size])\n",
    "\n",
    "for i in range(num_frames):\n",
    "    x = stackGrids(den, vel, size, size, bound)\n",
    "    output = model(x)\n",
    "    den_in = output[0,0]\n",
    "    print(den_in)\n",
    "    \n",
    "#     den = CenteredGrid(output[0,0,:,:], extrapolation.ZERO, x=size-2, y=size-2, bounds=Box[1:size-1, 1:size-1])\n",
    "    \n",
    "#     den_ref, vel_ref = simulateFlow(den_ref, vel_ref, GRAVITY, DT)\n",
    "#     output_ref = stackGrids(den_ref, vel_ref, size, size)\n",
    "    \n",
    "#     diff = output_ref - output"
   ]
  },
  {
   "cell_type": "code",
   "execution_count": null,
   "metadata": {},
   "outputs": [],
   "source": [
    "from matplotlib import pyplot as plt\n",
    "import numpy as np\n",
    "%matplotlib inline\n",
    "\n",
    "def test_model(model, size=32, num_frames=1):\n",
    "    GRAVITY = math.tensor([0, -9.81])\n",
    "    DT = 1\n",
    "    xMax = size\n",
    "    yMax = size\n",
    "    boundsBox=Box[0:xMax, 0:yMax]\n",
    "    activeBoundsBox=Box[1:xMax-1, 1:yMax-1]\n",
    "\n",
    "    den_ref = CenteredGrid(Noise(), extrapolation.ZERO, x=xMax-2, y=yMax-2, bounds=activeBoundsBox)\n",
    "    vel_ref = StaggeredGrid(0, extrapolation.ZERO, x=xMax-2, y=yMax-2, bounds=activeBoundsBox)\n",
    "\n",
    "    bound = CenteredGrid(0, extrapolation.ONE, x=xMax-2, y=yMax-2, bounds=activeBoundsBox)\n",
    "    bound = CenteredGrid(bound, x=xMax, y=yMax, bounds=boundsBox)\n",
    "\n",
    "    den = den_ref\n",
    "    vel = vel_ref\n",
    "    \n",
    "    vel += den * GRAVITY * DT @ vel\n",
    "    vel, _ = fluid.make_incompressible(vel)\n",
    "    \n",
    "    for i in range(num_frames):\n",
    "        # Create a 2 x 4 plot for the values\n",
    "        fig = plt.figure(figsize=(10, 7))\n",
    "        rows = 3\n",
    "        cols = 4\n",
    "        \n",
    "        # Plot Input Density, Velocities, and Barrier\n",
    "        \n",
    "        x = stackGrids(den, vel, xMax, yMax, bound)\n",
    "        den_val = den.values.numpy([\"x\",\"y\"])\n",
    "        den_min = den_val.min()\n",
    "        den_max = den_val.max()\n",
    "        den_sum = (den_val+den_min).sum()\n",
    "        print(\"Density Min\", den_min)\n",
    "        print(\"Density Max\", den_max)\n",
    "        print(\"Density Sum\", den_sum)\n",
    "        \n",
    "        fig.add_subplot(rows, cols, 1)\n",
    "        plt.imshow(x[0, 0, :, :])\n",
    "        plt.axis('off')\n",
    "        plt.title(\"Input Density\")\n",
    "        \n",
    "        fig.add_subplot(rows, cols, 2)\n",
    "        plt.imshow(x[0, 1, :, :])\n",
    "        plt.axis('off')\n",
    "        plt.title(\"Input Vel X\")\n",
    "        \n",
    "        fig.add_subplot(rows, cols, 3)\n",
    "        plt.imshow(x[0, 2, :, :])\n",
    "        plt.axis('off')\n",
    "        plt.title(\"Input Vel Y\")\n",
    "        \n",
    "        fig.add_subplot(rows, cols, 4)\n",
    "        plt.imshow(x[0, 3, :, :])\n",
    "        plt.axis('off')\n",
    "        plt.title(\"Input Barriers\")\n",
    "        \n",
    "        # Plot PhiFlow's Output\n",
    "        \n",
    "        den, vel = simulateFlow(den, vel, GRAVITY, DT) \n",
    "        y = stackGrids(den, vel, xMax, yMax)\n",
    "        \n",
    "        fig.add_subplot(rows, cols, 5)\n",
    "        plt.imshow(y[0, 0, :, :])\n",
    "        plt.axis('off')\n",
    "        plt.title(\"Expected Density\")\n",
    "        \n",
    "        fig.add_subplot(rows, cols, 6)\n",
    "        plt.imshow(y[0, 1, :, :])\n",
    "        plt.axis('off')\n",
    "        plt.title(\"Expected Vel X\")\n",
    "        \n",
    "        fig.add_subplot(rows, cols, 7)\n",
    "        plt.imshow(y[0, 2, :, :])\n",
    "        plt.axis('off')\n",
    "        plt.title(\"Expected Vel Y\")\n",
    "        \n",
    "        # Plot Model's Output\n",
    "        \n",
    "        outputs = model(x).detach().numpy()\n",
    "        \n",
    "        fig.add_subplot(rows, cols, 9)\n",
    "        plt.imshow(outputs[0, 0, :, :])\n",
    "        plt.axis('off')\n",
    "        plt.title(\"Model's Density\")\n",
    "        \n",
    "        fig.add_subplot(rows, cols, 10)\n",
    "        plt.imshow(outputs[0, 1, :, :])\n",
    "        plt.axis('off')\n",
    "        plt.title(\"Model's Vel X\")\n",
    "        fig.add_subplot(rows, cols, 11)\n",
    "        plt.imshow(outputs[0, 2, :, :])\n",
    "        plt.axis('off')\n",
    "        plt.title(\"Model's Vel Y\")"
   ]
  },
  {
   "cell_type": "code",
   "execution_count": null,
   "metadata": {},
   "outputs": [],
   "source": [
    "model.eval()\n",
    "test_model(model, 64, 4)"
   ]
  },
  {
   "cell_type": "markdown",
   "metadata": {},
   "source": [
    "## Attempting to Animate\n",
    "\n",
    "TO DO"
   ]
  },
  {
   "cell_type": "code",
   "execution_count": null,
   "metadata": {},
   "outputs": [],
   "source": [
    "import numpy as np  \n",
    "import matplotlib.pyplot as plt  \n",
    "from matplotlib.animation import FuncAnimation, PillowWriter  \n",
    "%matplotlib inline"
   ]
  },
  {
   "cell_type": "code",
   "execution_count": null,
   "metadata": {},
   "outputs": [],
   "source": [
    "def clean_output(X, in_den_sum, boundary):\n",
    "    out_den = X[0,0]\n",
    "    # out_den = out_den - out_den.min()\n",
    "    out_den[boundary==1] = 0\n",
    "    # out_den_sum = out_den.sum()\n",
    "    # return (in_den_sum/out_den_sum) * out_den\n",
    "    return out_den"
   ]
  },
  {
   "cell_type": "code",
   "execution_count": null,
   "metadata": {},
   "outputs": [],
   "source": [
    "size = 64\n",
    "GRAVITY = math.tensor([0, -9.81])\n",
    "DT = 1\n",
    "xMax = size\n",
    "yMax = size\n",
    "boundsBox=Box[0:xMax, 0:yMax]\n",
    "activeBoundsBox=Box[1:xMax-1, 1:yMax-1]\n",
    "\n",
    "den_ref = CenteredGrid(Noise(), extrapolation.ZERO, x=xMax-2, y=yMax-2, bounds=activeBoundsBox)\n",
    "vel_ref = StaggeredGrid(0, extrapolation.ZERO, x=xMax-2, y=yMax-2, bounds=activeBoundsBox)\n",
    "\n",
    "bound = CenteredGrid(0, extrapolation.ONE, x=xMax-2, y=yMax-2, bounds=activeBoundsBox)\n",
    "bound = CenteredGrid(bound, x=xMax, y=yMax, bounds=boundsBox)\n",
    "\n",
    "den = den_ref\n",
    "vel = vel_ref\n",
    "\n",
    "vel += den * GRAVITY * DT @ vel\n",
    "vel, _ = fluid.make_incompressible(vel)\n",
    "\n",
    "x = stackGrids(den, vel, xMax, yMax, bound)\n",
    "den, vel = simulateFlow(den, vel, GRAVITY, DT) \n",
    "y = stackGrids(den, vel, xMax, yMax)\n",
    "\n",
    "bound_val = bound.values.numpy(['x', 'y'])\n",
    "\n",
    "den_sum = np.sum(den_ref.values.numpy([\"x\",\"y\"]))\n",
    "\n",
    "def update():\n",
    "    global x\n",
    "    y = model(x).detach().numpy()\n",
    "    x = torch.tensor(np.expand_dims(np.stack((y[0, 0], y[0, 1], (y[0, 2]), bound_val), axis=0), 0))\n",
    "    x[0,0] = clean_output(x, den_sum, bound_val)\n",
    "    return y"
   ]
  },
  {
   "cell_type": "code",
   "execution_count": null,
   "metadata": {},
   "outputs": [],
   "source": [
    "from matplotlib import pyplot as plt\n",
    "import numpy as np\n",
    "import matplotlib.animation as animation \n",
    "\n",
    "fig = plt.figure() \n",
    "\n",
    "ims = []\n",
    "for i in range(10):\n",
    "    plt.axis('off')\n",
    "    im = plt.imshow(update()[0][0])\n",
    "    ims.append([im])"
   ]
  },
  {
   "cell_type": "code",
   "execution_count": null,
   "metadata": {},
   "outputs": [],
   "source": [
    "ani = animation.ArtistAnimation(fig, ims, interval=100, blit=True, repeat_delay=1000)\n",
    "ani.save('water_sim_128_1.mp4')"
   ]
  },
  {
   "cell_type": "code",
   "execution_count": null,
   "metadata": {},
   "outputs": [],
   "source": []
  }
 ],
 "metadata": {
  "interpreter": {
   "hash": "436041b31ff14e1104c6dec84275d2e4ca6b982b49ee581adbf55f6385be75b0"
  },
  "kernelspec": {
   "display_name": "Python 3 (ipykernel)",
   "language": "python",
   "name": "python3"
  },
  "language_info": {
   "codemirror_mode": {
    "name": "ipython",
    "version": 3
   },
   "file_extension": ".py",
   "mimetype": "text/x-python",
   "name": "python",
   "nbconvert_exporter": "python",
   "pygments_lexer": "ipython3",
   "version": "3.9.7"
  }
 },
 "nbformat": 4,
 "nbformat_minor": 2
}
