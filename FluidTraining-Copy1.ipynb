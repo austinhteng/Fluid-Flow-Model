{
 "cells": [
  {
   "cell_type": "markdown",
   "metadata": {},
   "source": [
    "### Imports"
   ]
  },
  {
   "cell_type": "code",
   "execution_count": 1,
   "metadata": {},
   "outputs": [
    {
     "name": "stdout",
     "output_type": "stream",
     "text": [
      "Requirement already satisfied: torch in /home/austinteng/anaconda3/lib/python3.9/site-packages (1.10.2)\n",
      "Requirement already satisfied: typing-extensions in /home/austinteng/anaconda3/lib/python3.9/site-packages (from torch) (3.10.0.2)\n",
      "Note: you may need to restart the kernel to use updated packages.\n",
      "Requirement already satisfied: torchvision in /home/austinteng/anaconda3/lib/python3.9/site-packages (0.11.3)\n",
      "Requirement already satisfied: pillow!=8.3.0,>=5.3.0 in /home/austinteng/anaconda3/lib/python3.9/site-packages (from torchvision) (8.4.0)\n",
      "Requirement already satisfied: numpy in /home/austinteng/anaconda3/lib/python3.9/site-packages (from torchvision) (1.19.5)\n",
      "Requirement already satisfied: torch==1.10.2 in /home/austinteng/anaconda3/lib/python3.9/site-packages (from torchvision) (1.10.2)\n",
      "Requirement already satisfied: typing-extensions in /home/austinteng/anaconda3/lib/python3.9/site-packages (from torch==1.10.2->torchvision) (3.10.0.2)\n",
      "Note: you may need to restart the kernel to use updated packages.\n",
      "Requirement already satisfied: phiflow in /home/austinteng/anaconda3/lib/python3.9/site-packages (2.0.3)\n",
      "Requirement already satisfied: scipy in /home/austinteng/anaconda3/lib/python3.9/site-packages (from phiflow) (1.7.1)\n",
      "Requirement already satisfied: matplotlib in /home/austinteng/anaconda3/lib/python3.9/site-packages (from phiflow) (3.4.3)\n",
      "Requirement already satisfied: numpy==1.19.5 in /home/austinteng/anaconda3/lib/python3.9/site-packages (from phiflow) (1.19.5)\n",
      "Requirement already satisfied: pyparsing>=2.2.1 in /home/austinteng/anaconda3/lib/python3.9/site-packages (from matplotlib->phiflow) (3.0.4)\n",
      "Requirement already satisfied: python-dateutil>=2.7 in /home/austinteng/anaconda3/lib/python3.9/site-packages (from matplotlib->phiflow) (2.8.2)\n",
      "Requirement already satisfied: pillow>=6.2.0 in /home/austinteng/anaconda3/lib/python3.9/site-packages (from matplotlib->phiflow) (8.4.0)\n",
      "Requirement already satisfied: cycler>=0.10 in /home/austinteng/anaconda3/lib/python3.9/site-packages (from matplotlib->phiflow) (0.10.0)\n",
      "Requirement already satisfied: kiwisolver>=1.0.1 in /home/austinteng/anaconda3/lib/python3.9/site-packages (from matplotlib->phiflow) (1.3.1)\n",
      "Requirement already satisfied: six in /home/austinteng/anaconda3/lib/python3.9/site-packages (from cycler>=0.10->matplotlib->phiflow) (1.16.0)\n",
      "Note: you may need to restart the kernel to use updated packages.\n"
     ]
    }
   ],
   "source": [
    "%pip install torch\n",
    "%pip install torchvision\n",
    "%pip install phiflow"
   ]
  },
  {
   "cell_type": "code",
   "execution_count": 30,
   "metadata": {},
   "outputs": [],
   "source": [
    "\n",
    "import torch\n",
    "import torchvision\n",
    "import torchvision.transforms as transforms\n",
    "\n",
    "import torch.nn as nn\n",
    "import torch.nn.functional as F\n",
    "import torch.optim as optim\n",
    "\n",
    "import numpy as np\n",
    "\n",
    "from phi.torch.flow import *"
   ]
  },
  {
   "cell_type": "markdown",
   "metadata": {},
   "source": [
    "### Loading data"
   ]
  },
  {
   "cell_type": "code",
   "execution_count": 3,
   "metadata": {},
   "outputs": [
    {
     "ename": "NameError",
     "evalue": "name 'Dataset' is not defined",
     "output_type": "error",
     "traceback": [
      "\u001b[0;31m---------------------------------------------------------------------------\u001b[0m",
      "\u001b[0;31mNameError\u001b[0m                                 Traceback (most recent call last)",
      "\u001b[0;32m/tmp/ipykernel_5247/97147855.py\u001b[0m in \u001b[0;36m<module>\u001b[0;34m\u001b[0m\n\u001b[1;32m      1\u001b[0m \u001b[0;31m## CHANGE CODE TO WORK FOR PHIFLOW, COPIED FROM PYTORCH EXAMPLES\u001b[0m\u001b[0;34m\u001b[0m\u001b[0;34m\u001b[0m\u001b[0m\n\u001b[1;32m      2\u001b[0m \u001b[0;34m\u001b[0m\u001b[0m\n\u001b[0;32m----> 3\u001b[0;31m \u001b[0;32mclass\u001b[0m \u001b[0mFluidDataset\u001b[0m\u001b[0;34m(\u001b[0m\u001b[0mDataset\u001b[0m\u001b[0;34m)\u001b[0m\u001b[0;34m:\u001b[0m\u001b[0;34m\u001b[0m\u001b[0;34m\u001b[0m\u001b[0m\n\u001b[0m\u001b[1;32m      4\u001b[0m         \u001b[0;34m\"\"\"Face Landmarks dataset.\"\"\"\u001b[0m\u001b[0;34m\u001b[0m\u001b[0;34m\u001b[0m\u001b[0m\n\u001b[1;32m      5\u001b[0m \u001b[0;34m\u001b[0m\u001b[0m\n",
      "\u001b[0;31mNameError\u001b[0m: name 'Dataset' is not defined"
     ]
    }
   ],
   "source": [
    "## CHANGE CODE TO WORK FOR PHIFLOW, COPIED FROM PYTORCH EXAMPLES\n",
    "\n",
    "class FluidDataset(Dataset):\n",
    "        \"\"\"Face Landmarks dataset.\"\"\"\n",
    "\n",
    "def __init__(self, csv_file, root_dir, transform=None):\n",
    "    \"\"\"\n",
    "    Args:\n",
    "        csv_file (string): Path to the csv file with annotations.\n",
    "        root_dir (string): Directory with all the images.\n",
    "        transform (callable, optional): Optional transform to be applied\n",
    "            on a sample.\n",
    "    \"\"\"\n",
    "    self.landmarks_frame = pd.read_csv(csv_file)\n",
    "    self.root_dir = root_dir\n",
    "    self.transform = transform\n",
    "\n",
    "def __len__(self):\n",
    "    return len(self.landmarks_frame)\n",
    "\n",
    "def __getitem__(self, idx):\n",
    "    if torch.is_tensor(idx):\n",
    "        idx = idx.tolist()\n",
    "\n",
    "    img_name = os.path.join(self.root_dir,\n",
    "                            self.landmarks_frame.iloc[idx, 0])\n",
    "    image = io.imread(img_name)\n",
    "    landmarks = self.landmarks_frame.iloc[idx, 1:]\n",
    "    landmarks = np.array([landmarks])\n",
    "    landmarks = landmarks.astype('float').reshape(-1, 2)\n",
    "    sample = {'image': image, 'landmarks': landmarks}\n",
    "\n",
    "    if self.transform:\n",
    "        sample = self.transform(sample)\n",
    "\n",
    "    return sample"
   ]
  },
  {
   "cell_type": "markdown",
   "metadata": {},
   "source": [
    "### Basic CNN"
   ]
  },
  {
   "cell_type": "code",
   "execution_count": 38,
   "metadata": {},
   "outputs": [],
   "source": [
    "class Net(nn.Module):\n",
    "    def __init__(self):\n",
    "        super().__init__()\n",
    "        # expected input is 32 x 32 x 3\n",
    "        self.conv1 = nn.Conv2d(3, 6, 5)\n",
    "        # size: 28 x 28 x 6\n",
    "        self.pool = nn.MaxPool2d(2, 2)\n",
    "        # size: 10 x 10 x 6\n",
    "        self.conv2 = nn.Conv2d(6, 12, 5)\n",
    "        # size: 5 x 5 x 12\n",
    "        self.fc1 = nn.Linear(300, 3072)\n",
    "        # ouput size: 3072\n",
    "        \n",
    "\n",
    "    def forward(self, x):\n",
    "        x = self.pool(F.relu(self.conv1(x)))\n",
    "        x = self.pool(F.relu(self.conv2(x)))\n",
    "        x = torch.flatten(x, 1) # flatten all dimensions except batch\n",
    "        x = self.fc1(x)\n",
    "        return x\n",
    "\n",
    "net = Net()"
   ]
  },
  {
   "cell_type": "markdown",
   "metadata": {},
   "source": [
    "### Loss Function"
   ]
  },
  {
   "cell_type": "code",
   "execution_count": 23,
   "metadata": {},
   "outputs": [],
   "source": [
    "criterion = nn.MSELoss()\n",
    "optimizer = optim.SGD(net.parameters(), lr=0.001, momentum=0.9)"
   ]
  },
  {
   "cell_type": "markdown",
   "metadata": {},
   "source": [
    "### Training the Network"
   ]
  },
  {
   "cell_type": "code",
   "execution_count": 39,
   "metadata": {},
   "outputs": [
    {
     "ename": "NameError",
     "evalue": "name 'y' is not defined",
     "output_type": "error",
     "traceback": [
      "\u001b[0;31m---------------------------------------------------------------------------\u001b[0m",
      "\u001b[0;31mNameError\u001b[0m                                 Traceback (most recent call last)",
      "\u001b[0;32m/tmp/ipykernel_3615/3495639998.py\u001b[0m in \u001b[0;36m<module>\u001b[0;34m\u001b[0m\n\u001b[1;32m     29\u001b[0m         \u001b[0;31m# forward + backward + optimize\u001b[0m\u001b[0;34m\u001b[0m\u001b[0;34m\u001b[0m\u001b[0m\n\u001b[1;32m     30\u001b[0m         \u001b[0mpred_y\u001b[0m \u001b[0;34m=\u001b[0m \u001b[0mnet\u001b[0m\u001b[0;34m(\u001b[0m\u001b[0mx_2\u001b[0m\u001b[0;34m)\u001b[0m\u001b[0;34m\u001b[0m\u001b[0;34m\u001b[0m\u001b[0m\n\u001b[0;32m---> 31\u001b[0;31m         \u001b[0mloss\u001b[0m \u001b[0;34m=\u001b[0m \u001b[0mcriterion\u001b[0m\u001b[0;34m(\u001b[0m\u001b[0mpred_y\u001b[0m\u001b[0;34m,\u001b[0m \u001b[0my\u001b[0m\u001b[0;34m)\u001b[0m\u001b[0;34m\u001b[0m\u001b[0;34m\u001b[0m\u001b[0m\n\u001b[0m\u001b[1;32m     32\u001b[0m         \u001b[0mloss\u001b[0m\u001b[0;34m.\u001b[0m\u001b[0mbackward\u001b[0m\u001b[0;34m(\u001b[0m\u001b[0;34m)\u001b[0m\u001b[0;34m\u001b[0m\u001b[0;34m\u001b[0m\u001b[0m\n\u001b[1;32m     33\u001b[0m         \u001b[0moptimizer\u001b[0m\u001b[0;34m.\u001b[0m\u001b[0mstep\u001b[0m\u001b[0;34m(\u001b[0m\u001b[0;34m)\u001b[0m\u001b[0;34m\u001b[0m\u001b[0;34m\u001b[0m\u001b[0m\n",
      "\u001b[0;31mNameError\u001b[0m: name 'y' is not defined"
     ]
    }
   ],
   "source": [
    "bounds=Box[0:32, 0:32]\n",
    "GRAVITY = math.tensor([0, -9.81])\n",
    "DT = 1\n",
    "\n",
    "water_ref = CenteredGrid(Noise(), extrapolation.BOUNDARY, x=32, y=32, bounds=bounds)\n",
    "velocity_ref = StaggeredGrid(0, extrapolation.ZERO, x=32, y=32, bounds=bounds)\n",
    "\n",
    "for epoch in range(10):  # loop over the dataset multiple times\n",
    "\n",
    "    water = water_ref\n",
    "    velocity = velocity_ref\n",
    "    \n",
    "    velocity += water * GRAVITY * DT @ velocity\n",
    "    velocity, _ = fluid.make_incompressible(velocity)\n",
    "    \n",
    "    running_loss = 0.0\n",
    "    for i in range(20):\n",
    "        # get the inputs; data is a list of [inputs, labels]\n",
    "        density = water.values.numpy([\"x\",\"y\"])\n",
    "        vel_x = velocity.at_centers().vector['x'].values.numpy([\"x\",\"y\"])\n",
    "        vel_y = velocity.at_centers().vector['y'].values.numpy([\"x\",\"y\"])\n",
    "        x = np.stack((density, vel_x, vel_y), axis=0)\n",
    "        x = np.asarray([x])\n",
    "        x_2 = torch.from_numpy(x)\n",
    "        \n",
    "        # zero the parameter gradients\n",
    "        optimizer.zero_grad()\n",
    "\n",
    "        # forward + backward + optimize\n",
    "        pred_y = net(x_2)\n",
    "        loss = criterion(pred_y, y)\n",
    "        loss.backward()\n",
    "        optimizer.step()\n",
    "\n",
    "        # print statistics\n",
    "        running_loss += loss.item()\n",
    "        if i % 2000 == 1999:    # print every 2000 mini-batches\n",
    "            print(f'[{epoch + 1}, {i + 1:5d}] loss: {running_loss / 2000:.3f}')\n",
    "            running_loss = 0.0\n",
    "\n",
    "print('Finished Training')"
   ]
  },
  {
   "cell_type": "code",
   "execution_count": null,
   "metadata": {},
   "outputs": [],
   "source": []
  }
 ],
 "metadata": {
  "interpreter": {
   "hash": "16812e5f625211ac105c043618c2d45b45a358fe1cbf6f2286d9926bd246e573"
  },
  "kernelspec": {
   "display_name": "Python 3 (ipykernel)",
   "language": "python",
   "name": "python3"
  },
  "language_info": {
   "codemirror_mode": {
    "name": "ipython",
    "version": 3
   },
   "file_extension": ".py",
   "mimetype": "text/x-python",
   "name": "python",
   "nbconvert_exporter": "python",
   "pygments_lexer": "ipython3",
   "version": "3.9.7"
  }
 },
 "nbformat": 4,
 "nbformat_minor": 2
}
