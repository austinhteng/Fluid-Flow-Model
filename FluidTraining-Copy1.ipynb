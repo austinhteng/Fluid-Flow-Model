{
 "cells": [
  {
   "cell_type": "markdown",
   "metadata": {},
   "source": [
    "### Imports"
   ]
  },
  {
   "cell_type": "code",
   "execution_count": 1,
   "metadata": {},
   "outputs": [
    {
     "name": "stdout",
     "output_type": "stream",
     "text": [
      "Requirement already satisfied: torch in /home/austinteng/anaconda3/lib/python3.9/site-packages (1.10.2)\n",
      "Requirement already satisfied: typing-extensions in /home/austinteng/anaconda3/lib/python3.9/site-packages (from torch) (3.10.0.2)\n",
      "Note: you may need to restart the kernel to use updated packages.\n",
      "Requirement already satisfied: torchvision in /home/austinteng/anaconda3/lib/python3.9/site-packages (0.11.3)\n",
      "Requirement already satisfied: pillow!=8.3.0,>=5.3.0 in /home/austinteng/anaconda3/lib/python3.9/site-packages (from torchvision) (8.4.0)\n",
      "Requirement already satisfied: numpy in /home/austinteng/anaconda3/lib/python3.9/site-packages (from torchvision) (1.19.5)\n",
      "Requirement already satisfied: torch==1.10.2 in /home/austinteng/anaconda3/lib/python3.9/site-packages (from torchvision) (1.10.2)\n",
      "Requirement already satisfied: typing-extensions in /home/austinteng/anaconda3/lib/python3.9/site-packages (from torch==1.10.2->torchvision) (3.10.0.2)\n",
      "Note: you may need to restart the kernel to use updated packages.\n",
      "Requirement already satisfied: phiflow in /home/austinteng/anaconda3/lib/python3.9/site-packages (2.0.3)\n",
      "Requirement already satisfied: scipy in /home/austinteng/anaconda3/lib/python3.9/site-packages (from phiflow) (1.7.1)\n",
      "Requirement already satisfied: matplotlib in /home/austinteng/anaconda3/lib/python3.9/site-packages (from phiflow) (3.4.3)\n",
      "Requirement already satisfied: numpy==1.19.5 in /home/austinteng/anaconda3/lib/python3.9/site-packages (from phiflow) (1.19.5)\n",
      "Requirement already satisfied: pyparsing>=2.2.1 in /home/austinteng/anaconda3/lib/python3.9/site-packages (from matplotlib->phiflow) (3.0.4)\n",
      "Requirement already satisfied: python-dateutil>=2.7 in /home/austinteng/anaconda3/lib/python3.9/site-packages (from matplotlib->phiflow) (2.8.2)\n",
      "Requirement already satisfied: pillow>=6.2.0 in /home/austinteng/anaconda3/lib/python3.9/site-packages (from matplotlib->phiflow) (8.4.0)\n",
      "Requirement already satisfied: cycler>=0.10 in /home/austinteng/anaconda3/lib/python3.9/site-packages (from matplotlib->phiflow) (0.10.0)\n",
      "Requirement already satisfied: kiwisolver>=1.0.1 in /home/austinteng/anaconda3/lib/python3.9/site-packages (from matplotlib->phiflow) (1.3.1)\n",
      "Requirement already satisfied: six in /home/austinteng/anaconda3/lib/python3.9/site-packages (from cycler>=0.10->matplotlib->phiflow) (1.16.0)\n",
      "Note: you may need to restart the kernel to use updated packages.\n"
     ]
    }
   ],
   "source": [
    "%pip install torch\n",
    "%pip install torchvision\n",
    "%pip install phiflow"
   ]
  },
  {
   "cell_type": "code",
   "execution_count": 1,
   "metadata": {},
   "outputs": [],
   "source": [
    "\n",
    "import torch\n",
    "import torchvision\n",
    "import torchvision.transforms as transforms\n",
    "\n",
    "import torch.nn as nn\n",
    "import torch.nn.functional as F\n",
    "import torch.optim as optim\n",
    "\n",
    "import numpy as np\n",
    "\n",
    "from phi.torch.flow import *"
   ]
  },
  {
   "cell_type": "markdown",
   "metadata": {},
   "source": [
    "### Loading data"
   ]
  },
  {
   "cell_type": "code",
   "execution_count": 2,
   "metadata": {},
   "outputs": [
    {
     "ename": "NameError",
     "evalue": "name 'Dataset' is not defined",
     "output_type": "error",
     "traceback": [
      "\u001b[0;31m---------------------------------------------------------------------------\u001b[0m",
      "\u001b[0;31mNameError\u001b[0m                                 Traceback (most recent call last)",
      "\u001b[0;32m/tmp/ipykernel_4811/97147855.py\u001b[0m in \u001b[0;36m<module>\u001b[0;34m\u001b[0m\n\u001b[1;32m      1\u001b[0m \u001b[0;31m## CHANGE CODE TO WORK FOR PHIFLOW, COPIED FROM PYTORCH EXAMPLES\u001b[0m\u001b[0;34m\u001b[0m\u001b[0;34m\u001b[0m\u001b[0m\n\u001b[1;32m      2\u001b[0m \u001b[0;34m\u001b[0m\u001b[0m\n\u001b[0;32m----> 3\u001b[0;31m \u001b[0;32mclass\u001b[0m \u001b[0mFluidDataset\u001b[0m\u001b[0;34m(\u001b[0m\u001b[0mDataset\u001b[0m\u001b[0;34m)\u001b[0m\u001b[0;34m:\u001b[0m\u001b[0;34m\u001b[0m\u001b[0;34m\u001b[0m\u001b[0m\n\u001b[0m\u001b[1;32m      4\u001b[0m         \u001b[0;34m\"\"\"Face Landmarks dataset.\"\"\"\u001b[0m\u001b[0;34m\u001b[0m\u001b[0;34m\u001b[0m\u001b[0m\n\u001b[1;32m      5\u001b[0m \u001b[0;34m\u001b[0m\u001b[0m\n",
      "\u001b[0;31mNameError\u001b[0m: name 'Dataset' is not defined"
     ]
    }
   ],
   "source": [
    "## CHANGE CODE TO WORK FOR PHIFLOW, COPIED FROM PYTORCH EXAMPLES\n",
    "\n",
    "class FluidDataset(Dataset):\n",
    "        \"\"\"Face Landmarks dataset.\"\"\"\n",
    "\n",
    "def __init__(self, csv_file, root_dir, transform=None):\n",
    "    \"\"\"\n",
    "    Args:\n",
    "        csv_file (string): Path to the csv file with annotations.\n",
    "        root_dir (string): Directory with all the images.\n",
    "        transform (callable, optional): Optional transform to be applied\n",
    "            on a sample.\n",
    "    \"\"\"\n",
    "    self.landmarks_frame = pd.read_csv(csv_file)\n",
    "    self.root_dir = root_dir\n",
    "    self.transform = transform\n",
    "\n",
    "def __len__(self):\n",
    "    return len(self.landmarks_frame)\n",
    "\n",
    "def __getitem__(self, idx):\n",
    "    if torch.is_tensor(idx):\n",
    "        idx = idx.tolist()\n",
    "\n",
    "    img_name = os.path.join(self.root_dir,\n",
    "                            self.landmarks_frame.iloc[idx, 0])\n",
    "    image = io.imread(img_name)\n",
    "    landmarks = self.landmarks_frame.iloc[idx, 1:]\n",
    "    landmarks = np.array([landmarks])\n",
    "    landmarks = landmarks.astype('float').reshape(-1, 2)\n",
    "    sample = {'image': image, 'landmarks': landmarks}\n",
    "\n",
    "    if self.transform:\n",
    "        sample = self.transform(sample)\n",
    "\n",
    "    return sample"
   ]
  },
  {
   "cell_type": "markdown",
   "metadata": {},
   "source": [
    "### Basic CNN"
   ]
  },
  {
   "cell_type": "code",
   "execution_count": 19,
   "metadata": {},
   "outputs": [],
   "source": [
    "class Net(nn.Module):\n",
    "    def __init__(self):\n",
    "        super().__init__()\n",
    "        self.pool = nn.MaxPool2d(2, 2)\n",
    "        self.drop = nn.Dropout(0.5)\n",
    "        self.conv1 = nn.Conv2d(4, 8, 2, padding=\"same\") # expected input is 128 x 128 x 4\n",
    "        self.conv2 = nn.Conv2d(8, 16, 2, padding=\"same\") # size: 64 x 64 x 8\n",
    "        self.conv3 = nn.Conv2d(16, 32, 2, padding=\"same\") # size: 32 x 32 x 16\n",
    "        #size: 16 x 16 x 32\n",
    "        self.deconv3 = nn.ConvTranspose2d(32, 16, 2)\n",
    "        self.deconv2 = nn.ConvTranspose2d(16, 8, 2)\n",
    "        self.deconv1 = nn.ConvTranspose2d(8, 4, 2)\n",
    "        \n",
    "        \n",
    "\n",
    "    def forward(self, x):\n",
    "        x = self.pool(F.relu(self.conv1(x)))\n",
    "        x = self.pool(F.relu(self.conv2(x)))\n",
    "        x = self.pool(F.relu(self.conv3(x)))\n",
    "#         x = torch.flatten(x, 1) # flatten all dimensions except batch\n",
    "#         x = self.fc1(x)\n",
    "        x = F.relu(self.deconv3(x))\n",
    "        x = np.concatenate([deconv3, conv3])\n",
    "        x = F.relu(self.deconv2(x))\n",
    "        x = np.concatenate([deconv2, conv2])\n",
    "        x = F.relu(self.deconv1(x))\n",
    "        x = np.concatenate([deconv1, conv1])\n",
    "        return x\n",
    "\n",
    "net = Net()"
   ]
  },
  {
   "cell_type": "markdown",
   "metadata": {},
   "source": [
    "### Loss Function"
   ]
  },
  {
   "cell_type": "code",
   "execution_count": 8,
   "metadata": {},
   "outputs": [],
   "source": [
    "criterion = nn.MSELoss()\n",
    "optimizer = optim.SGD(net.parameters(), lr=0.001, momentum=0.9)"
   ]
  },
  {
   "cell_type": "markdown",
   "metadata": {},
   "source": [
    "### Training the Network"
   ]
  },
  {
   "cell_type": "code",
   "execution_count": 18,
   "metadata": {},
   "outputs": [
    {
     "ename": "NameError",
     "evalue": "name 'deconv3' is not defined",
     "output_type": "error",
     "traceback": [
      "\u001b[0;31m---------------------------------------------------------------------------\u001b[0m",
      "\u001b[0;31mNameError\u001b[0m                                 Traceback (most recent call last)",
      "\u001b[0;32m/tmp/ipykernel_7719/3843949391.py\u001b[0m in \u001b[0;36m<module>\u001b[0;34m\u001b[0m\n\u001b[1;32m     49\u001b[0m \u001b[0;34m\u001b[0m\u001b[0m\n\u001b[1;32m     50\u001b[0m         \u001b[0;31m# forward + backward + optimize\u001b[0m\u001b[0;34m\u001b[0m\u001b[0;34m\u001b[0m\u001b[0m\n\u001b[0;32m---> 51\u001b[0;31m         \u001b[0mpred_y\u001b[0m \u001b[0;34m=\u001b[0m \u001b[0mnet\u001b[0m\u001b[0;34m(\u001b[0m\u001b[0mx_2\u001b[0m\u001b[0;34m)\u001b[0m\u001b[0;34m\u001b[0m\u001b[0;34m\u001b[0m\u001b[0m\n\u001b[0m\u001b[1;32m     52\u001b[0m         \u001b[0mloss\u001b[0m \u001b[0;34m=\u001b[0m \u001b[0mcriterion\u001b[0m\u001b[0;34m(\u001b[0m\u001b[0mpred_y\u001b[0m\u001b[0;34m,\u001b[0m \u001b[0my_2\u001b[0m\u001b[0;34m)\u001b[0m\u001b[0;34m\u001b[0m\u001b[0;34m\u001b[0m\u001b[0m\n\u001b[1;32m     53\u001b[0m         \u001b[0mloss\u001b[0m\u001b[0;34m.\u001b[0m\u001b[0mbackward\u001b[0m\u001b[0;34m(\u001b[0m\u001b[0;34m)\u001b[0m\u001b[0;34m\u001b[0m\u001b[0;34m\u001b[0m\u001b[0m\n",
      "\u001b[0;32m~/anaconda3/lib/python3.9/site-packages/torch/nn/modules/module.py\u001b[0m in \u001b[0;36m_call_impl\u001b[0;34m(self, *input, **kwargs)\u001b[0m\n\u001b[1;32m   1100\u001b[0m         if not (self._backward_hooks or self._forward_hooks or self._forward_pre_hooks or _global_backward_hooks\n\u001b[1;32m   1101\u001b[0m                 or _global_forward_hooks or _global_forward_pre_hooks):\n\u001b[0;32m-> 1102\u001b[0;31m             \u001b[0;32mreturn\u001b[0m \u001b[0mforward_call\u001b[0m\u001b[0;34m(\u001b[0m\u001b[0;34m*\u001b[0m\u001b[0minput\u001b[0m\u001b[0;34m,\u001b[0m \u001b[0;34m**\u001b[0m\u001b[0mkwargs\u001b[0m\u001b[0;34m)\u001b[0m\u001b[0;34m\u001b[0m\u001b[0;34m\u001b[0m\u001b[0m\n\u001b[0m\u001b[1;32m   1103\u001b[0m         \u001b[0;31m# Do not call functions when jit is used\u001b[0m\u001b[0;34m\u001b[0m\u001b[0;34m\u001b[0m\u001b[0m\n\u001b[1;32m   1104\u001b[0m         \u001b[0mfull_backward_hooks\u001b[0m\u001b[0;34m,\u001b[0m \u001b[0mnon_full_backward_hooks\u001b[0m \u001b[0;34m=\u001b[0m \u001b[0;34m[\u001b[0m\u001b[0;34m]\u001b[0m\u001b[0;34m,\u001b[0m \u001b[0;34m[\u001b[0m\u001b[0;34m]\u001b[0m\u001b[0;34m\u001b[0m\u001b[0;34m\u001b[0m\u001b[0m\n",
      "\u001b[0;32m/tmp/ipykernel_7719/1419977115.py\u001b[0m in \u001b[0;36mforward\u001b[0;34m(self, x)\u001b[0m\n\u001b[1;32m     21\u001b[0m \u001b[0;31m#         x = self.fc1(x)\u001b[0m\u001b[0;34m\u001b[0m\u001b[0;34m\u001b[0m\u001b[0m\n\u001b[1;32m     22\u001b[0m         \u001b[0mx\u001b[0m \u001b[0;34m=\u001b[0m \u001b[0mF\u001b[0m\u001b[0;34m.\u001b[0m\u001b[0mrelu\u001b[0m\u001b[0;34m(\u001b[0m\u001b[0mself\u001b[0m\u001b[0;34m.\u001b[0m\u001b[0mdeconv3\u001b[0m\u001b[0;34m(\u001b[0m\u001b[0mx\u001b[0m\u001b[0;34m)\u001b[0m\u001b[0;34m)\u001b[0m\u001b[0;34m\u001b[0m\u001b[0;34m\u001b[0m\u001b[0m\n\u001b[0;32m---> 23\u001b[0;31m         \u001b[0mx\u001b[0m \u001b[0;34m=\u001b[0m \u001b[0mnp\u001b[0m\u001b[0;34m.\u001b[0m\u001b[0mconcatenate\u001b[0m\u001b[0;34m(\u001b[0m\u001b[0;34m[\u001b[0m\u001b[0mdeconv3\u001b[0m\u001b[0;34m,\u001b[0m \u001b[0mconv3\u001b[0m\u001b[0;34m]\u001b[0m\u001b[0;34m)\u001b[0m\u001b[0;34m\u001b[0m\u001b[0;34m\u001b[0m\u001b[0m\n\u001b[0m\u001b[1;32m     24\u001b[0m         \u001b[0mx\u001b[0m \u001b[0;34m=\u001b[0m \u001b[0mF\u001b[0m\u001b[0;34m.\u001b[0m\u001b[0mrelu\u001b[0m\u001b[0;34m(\u001b[0m\u001b[0mself\u001b[0m\u001b[0;34m.\u001b[0m\u001b[0mdeconv2\u001b[0m\u001b[0;34m(\u001b[0m\u001b[0mx\u001b[0m\u001b[0;34m)\u001b[0m\u001b[0;34m)\u001b[0m\u001b[0;34m\u001b[0m\u001b[0;34m\u001b[0m\u001b[0m\n\u001b[1;32m     25\u001b[0m         \u001b[0mx\u001b[0m \u001b[0;34m=\u001b[0m \u001b[0mnp\u001b[0m\u001b[0;34m.\u001b[0m\u001b[0mconcatenate\u001b[0m\u001b[0;34m(\u001b[0m\u001b[0;34m[\u001b[0m\u001b[0mdeconv2\u001b[0m\u001b[0;34m,\u001b[0m \u001b[0mconv2\u001b[0m\u001b[0;34m]\u001b[0m\u001b[0;34m)\u001b[0m\u001b[0;34m\u001b[0m\u001b[0;34m\u001b[0m\u001b[0m\n",
      "\u001b[0;31mNameError\u001b[0m: name 'deconv3' is not defined"
     ]
    }
   ],
   "source": [
    "bounds=Box[0:32, 0:32]\n",
    "GRAVITY = math.tensor([0, -9.81])\n",
    "DT = 1\n",
    "xMax = 128\n",
    "yMax = 128\n",
    "\n",
    "water_ref = CenteredGrid(Noise(), extrapolation.ZERO, x=xMax-2, y=yMax-2, bounds=Box[1:xMax-1, 1:yMax-1])\n",
    "water_ref = CenteredGrid(water_ref, 0, Box[0:xMax, 0:yMax], x=xMax, y=yMax)\n",
    "\n",
    "velocity_ref = StaggeredGrid(0, extrapolation.ZERO, x=xMax, y=yMax, bounds=bounds)\n",
    "\n",
    "boundary = CenteredGrid(0, extrapolation.ONE, x=xMax-2, y=yMax-2, bounds=Box[1:xMax-1, 1:yMax-1])\n",
    "boundary = CenteredGrid(boundary, bounds=Box[0:xMax, 0:yMax], x=xMax, y=yMax)\n",
    "\n",
    "for epoch in range(10):  # loop over the dataset multiple times\n",
    "\n",
    "    water = water_ref\n",
    "    velocity = velocity_ref\n",
    "    \n",
    "    velocity += water * GRAVITY * DT @ velocity\n",
    "    velocity, _ = fluid.make_incompressible(velocity)\n",
    "    \n",
    "    running_loss = 0.0\n",
    "    for i in range(20):\n",
    "        # get the inputs; data is a list of [inputs, labels]\n",
    "        density = water.values.numpy([\"x\",\"y\"])\n",
    "        boundary_val = boundary.values.numpy(['x', 'y'])\n",
    "        vel_x = velocity.at_centers().vector['x'].values.numpy([\"x\",\"y\"])\n",
    "        vel_y = velocity.at_centers().vector['y'].values.numpy([\"x\",\"y\"])\n",
    "        x = np.stack((density, vel_x, vel_y, boundary_val), axis=0)\n",
    "        x = np.asarray([x])\n",
    "        x_2 = torch.from_numpy(x)\n",
    "        \n",
    "        # run simulator\n",
    "        water = advect.mac_cormack(water, velocity, dt=DT)\n",
    "        gravity_force = water * GRAVITY * DT @ velocity\n",
    "        velocity = advect.semi_lagrangian(velocity, velocity, dt=DT) + gravity_force\n",
    "        velocity, _ = fluid.make_incompressible(velocity)\n",
    "        \n",
    "        density_sim = water.values.numpy([\"x\", \"y\"])\n",
    "        vel_x_sim = velocity.at_centers().vector['x'].values.numpy([\"x\",\"y\"])\n",
    "        vel_y_sim = velocity.at_centers().vector['y'].values.numpy([\"x\",\"y\"])\n",
    "        y = np.stack((density, vel_x, vel_y, boundary_val), axis=0)\n",
    "        y = np.asarray([x])\n",
    "        y_2 = torch.from_numpy(x)\n",
    "        \n",
    "        # zero the parameter gradients\n",
    "        optimizer.zero_grad()\n",
    "\n",
    "        # forward + backward + optimize\n",
    "        pred_y = net(x_2)\n",
    "        loss = criterion(pred_y, y_2)\n",
    "        loss.backward()\n",
    "        optimizer.step()\n",
    "\n",
    "        # print statistics\n",
    "        running_loss += loss.item()\n",
    "        if i % 2000 == 1999:    # print every 2000 mini-batches\n",
    "            print(f'[{epoch + 1}, {i + 1:5d}] loss: {running_loss / 2000:.3f}')\n",
    "            running_loss = 0.0\n",
    "\n",
    "print('Finished Training')"
   ]
  },
  {
   "cell_type": "code",
   "execution_count": null,
   "metadata": {},
   "outputs": [],
   "source": []
  }
 ],
 "metadata": {
  "interpreter": {
   "hash": "16812e5f625211ac105c043618c2d45b45a358fe1cbf6f2286d9926bd246e573"
  },
  "kernelspec": {
   "display_name": "Python 3 (ipykernel)",
   "language": "python",
   "name": "python3"
  },
  "language_info": {
   "codemirror_mode": {
    "name": "ipython",
    "version": 3
   },
   "file_extension": ".py",
   "mimetype": "text/x-python",
   "name": "python",
   "nbconvert_exporter": "python",
   "pygments_lexer": "ipython3",
   "version": "3.9.7"
  }
 },
 "nbformat": 4,
 "nbformat_minor": 2
}
