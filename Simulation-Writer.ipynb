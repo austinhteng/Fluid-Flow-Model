{
 "cells": [
  {
   "cell_type": "code",
   "execution_count": 10,
   "id": "e8c2891d",
   "metadata": {},
   "outputs": [],
   "source": [
    "from phi.flow import *"
   ]
  },
  {
   "cell_type": "code",
   "execution_count": 11,
   "id": "901aee6d",
   "metadata": {},
   "outputs": [],
   "source": [
    "def simulateFlow(den, vel, GRAVITY, DT):\n",
    "    den = advect.mac_cormack(den, vel, dt=DT)\n",
    "    gravity_force = den * GRAVITY * DT @ vel\n",
    "    vel = advect.semi_lagrangian(vel, vel, dt=DT) + gravity_force\n",
    "    vel, _ = fluid.make_incompressible(vel)\n",
    "    return den, vel"
   ]
  },
  {
   "cell_type": "markdown",
   "id": "09d8dac0",
   "metadata": {},
   "source": [
    "## Simulator Parameters"
   ]
  },
  {
   "cell_type": "code",
   "execution_count": 12,
   "id": "12bbfe7f",
   "metadata": {},
   "outputs": [],
   "source": [
    "size = 128\n",
    "batchSize = 16\n",
    "timeSteps = 20\n",
    "\n",
    "GRAVITY = math.tensor([0, -9.81])\n",
    "DT = 1\n",
    "xMax = size\n",
    "yMax = size\n",
    "boundsBox=Box[0:xMax, 0:yMax]\n",
    "activeBoundsBox=Box[1:xMax-1, 1:yMax-1]"
   ]
  },
  {
   "cell_type": "markdown",
   "id": "68c6e99d",
   "metadata": {},
   "source": [
    "## Run Simulation and Write"
   ]
  },
  {
   "cell_type": "code",
   "execution_count": 13,
   "id": "2f8f403e",
   "metadata": {},
   "outputs": [
    {
     "name": "stderr",
     "output_type": "stream",
     "text": [
      "/home/austinteng/anaconda3/lib/python3.9/site-packages/phi/field/_scene.py:180: UserWarning: Failed to copy calling script to scene during Scene.create(): [Errno 2] No such file or directory: '/tmp/ipykernel_22964/4149452862.py'\n",
      "  warnings.warn(f\"Failed to copy calling script to scene during Scene.create(): {err}\")\n"
     ]
    }
   ],
   "source": [
    "for i in range(batchSize):\n",
    "    scene = Scene.create(\"./data/size\" + str(size))\n",
    "    \n",
    "    den = CenteredGrid(Noise(), extrapolation.ZERO, x=xMax-2, y=yMax-2, bounds=activeBoundsBox)\n",
    "    den = den.with_values(math.maximum(den.values, 0))\n",
    "\n",
    "    vel = StaggeredGrid(0, extrapolation.ZERO, x=xMax-2, y=yMax-2, bounds=activeBoundsBox)\n",
    "    vel += den * GRAVITY * DT @ vel\n",
    "    vel, _ = fluid.make_incompressible(vel)\n",
    "\n",
    "    #we probably don't need to include this part unless boundaries are unique\n",
    "    #bound = CenteredGrid([0] * batchSize, extrapolation.ONE, x=xMax-2, y=yMax-2, bounds=activeBoundsBox)\n",
    "    #bound = CenteredGrid(bound, x=xMax, y=yMax, bounds=boundsBox) \n",
    "\n",
    "    for i in range(timeSteps):\n",
    "        scene.write({'water' : den, 'velocity' : vel}, frame=i)\n",
    "        den, vel = simulateFlow(den, vel, GRAVITY, DT)"
   ]
  }
 ],
 "metadata": {
  "kernelspec": {
   "display_name": "Python 3 (ipykernel)",
   "language": "python",
   "name": "python3"
  },
  "language_info": {
   "codemirror_mode": {
    "name": "ipython",
    "version": 3
   },
   "file_extension": ".py",
   "mimetype": "text/x-python",
   "name": "python",
   "nbconvert_exporter": "python",
   "pygments_lexer": "ipython3",
   "version": "3.9.7"
  }
 },
 "nbformat": 4,
 "nbformat_minor": 5
}
